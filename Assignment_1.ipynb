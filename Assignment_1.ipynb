{
 "cells": [
  {
   "cell_type": "markdown",
   "metadata": {},
   "source": [
    "1.Q In the below elements which of them are values or an expression? eg:- values can be integer or string and expressions will be mathematical operators.\n",
    "\n"
   ]
  },
  {
   "cell_type": "markdown",
   "metadata": {},
   "source": [
    "    *          --->      Expression\n",
    "\n",
    "    'hello'    --->      Value\n",
    "\n",
    "    -87.8      --->      Value\n",
    "\n",
    "    -          --->      Expression\n",
    "\n",
    "    /          --->      Expression\n",
    "\n",
    "    +          --->      Expression\n",
    "\n",
    "    6          --->      Value\n",
    "\n"
   ]
  },
  {
   "cell_type": "markdown",
   "metadata": {},
   "source": [
    "2.Q What is the difference between string and variable?"
   ]
  },
  {
   "cell_type": "markdown",
   "metadata": {},
   "source": [
    "    String:\n",
    "\n",
    "    A string is a data type in Python. String is a set of characters or numbers. A string is usually represented by enclosing them with single or double quotes.\n",
    "\n",
    "\n",
    "    Variable:\n",
    "\n",
    "    A variable is an object for storing different values. A string or integer or any data type needs to be stored somewhere and needs some unique identity so that it can be called upon for later use. This unique identity where the data is stored is called variable.\n",
    "    \n",
    "\n",
    "    Difference between string and variables:\n",
    "\n",
    "    A string always needs to be enclosed within single or double quotes. A string can have any special characters, provided it is enclosed within quotes.\n",
    "\n",
    "    A variable can only have characters and underscore ( _ ). No other special character is allowed for naming a variable.\n",
    "\n",
    "\n",
    "    Example:\n",
    "\n",
    "    a = \"Hello I am a string\"\n",
    "\n",
    "    In the above example, \"Hello I am a string\" is the string and 'a' is the variable for storing the string. So now whenever the sting needs to be called, the variable 'a' can be called in it's place because it is holding the string."
   ]
  },
  {
   "cell_type": "markdown",
   "metadata": {},
   "source": [
    "3.Q Describe three different data types.\n"
   ]
  },
  {
   "cell_type": "markdown",
   "metadata": {},
   "source": [
    "    1) Numeric Data Types\n",
    "\n",
    "    int - Integer data type. Example: 1,22,5335,6565\n",
    "\n",
    "    float - Decimal numbers come under float data type. Example: 1.23, 4556.44, 343.0\n",
    "\n",
    "    complex - complex numbers with real and imaginary components. Example: 5+1j, 9+8j\n",
    "\n",
    "\n",
    "    2) Text Data Type\n",
    "\n",
    "    String - String is a set of characters or numbers. It is usually represented by enclosing them  with single or double quotes. Example: \"Hello\", \"hey, hi\", \"34343\"\n",
    "    \n",
    "\n",
    "    3) Boolean Data Type\n",
    "\n",
    "    Bool - Bool consists of two values True or False. Example: (5 > 3) --> True, bool(1 > 3) --> False"
   ]
  },
  {
   "cell_type": "markdown",
   "metadata": {},
   "source": [
    "4.Q What is an expression made up of? What do all expressions do?"
   ]
  },
  {
   "cell_type": "markdown",
   "metadata": {},
   "source": [
    "    An expression is made up mathematical operators and operands. Expressions enable us to perform mathematical operations in python. Expressions allow us to do addition, subtraction, multiplication, division, and so on. \n",
    "\n",
    "    Example:\n",
    "\n",
    "    10 + 23 ---> Here, 10 and 23 are the operands of the expression and '+' is the operator\n",
    "\n",
    "    a * 3 ---> Here, a and 3 are the operands of the expression and '*' is the operator\n",
    "\n",
    "    "
   ]
  },
  {
   "cell_type": "markdown",
   "metadata": {},
   "source": [
    "5.Q This assignment statements, like spam = 10. What is the difference between an expression and a statement?"
   ]
  },
  {
   "cell_type": "markdown",
   "metadata": {},
   "source": [
    "    Expression:\n",
    "\n",
    "    An expression is a combination of operators and operands. It helps us to perform different operations on the operands. \n",
    "\n",
    "    Example:\n",
    "\n",
    "    10 > 3, 12 + 8, 9 * 9, True or False are some of the examples of expressions.\n",
    "\n",
    "\n",
    "    Statements:\n",
    "\n",
    "    A statement is any line of code that has a meaning. Every line of meaningful code is a statement. Every expression is a statement nut not every statement is an expression.\n",
    "\n",
    "    Example:\n",
    "\n",
    "    a = 10 > 3, b = 12 + 8, print(\"hello\") are some of the examples of statements."
   ]
  },
  {
   "cell_type": "markdown",
   "metadata": {},
   "source": [
    "6.Q After running the following code, what does the variable bacon contain?\n",
    "\n",
    "bacon = 22\n",
    "\n",
    "bacon + 1\n"
   ]
  },
  {
   "cell_type": "markdown",
   "metadata": {},
   "source": [
    "    After running the above code, the variable 'bacon' will still contain 22 because we are performing an operation using 'bacon' but we are not assigning the value to the variable again so it will still contain the original value."
   ]
  },
  {
   "cell_type": "markdown",
   "metadata": {},
   "source": [
    "7.Q What should the values of the following two terms be?\n",
    "\n",
    "'spam' + 'spamspam'\n",
    "\n",
    "'spam' * 3\n"
   ]
  },
  {
   "cell_type": "markdown",
   "metadata": {},
   "source": [
    "    The value of both the terms will be identical in this case\n",
    "\n",
    "    'spam' + 'spamspam'  ---> 'spamspamspam'\n",
    "\n",
    "    'spam' * 3  ---> 'spamspamspam'"
   ]
  },
  {
   "cell_type": "markdown",
   "metadata": {},
   "source": [
    "8.Q Why is eggs a valid variable name while 100 is invalid?"
   ]
  },
  {
   "cell_type": "markdown",
   "metadata": {},
   "source": [
    "    This is because a variable name should not begin with an integer. It can have an interger at the end of the variable name but not at the beginning.\n",
    "\n",
    "    Example: egg100 is a valid variable name but 100egg is not valid.\n",
    "\n",
    "    Note: In case of special characters the variable name can only have the underscore '_' and no other special characters."
   ]
  },
  {
   "cell_type": "markdown",
   "metadata": {},
   "source": [
    "9.Q What three functions can be used to get the integer, floating-point number, or string version of a value?"
   ]
  },
  {
   "cell_type": "markdown",
   "metadata": {},
   "source": [
    "    The three functions that can be used to get the integer, floating-point number, or string version of a value are int(), float() and str() respectively."
   ]
  },
  {
   "cell_type": "markdown",
   "metadata": {},
   "source": [
    "Example"
   ]
  },
  {
   "cell_type": "code",
   "execution_count": 20,
   "metadata": {},
   "outputs": [
    {
     "name": "stdout",
     "output_type": "stream",
     "text": [
      "10\n",
      "10.0\n",
      "10\n"
     ]
    }
   ],
   "source": [
    "a = '10'\n",
    "print(int(a))\n",
    "print(float(a))\n",
    "print(str(a))"
   ]
  },
  {
   "cell_type": "markdown",
   "metadata": {},
   "source": [
    "10.Q Why does this expression cause an error? How can you fix it?\n",
    "\n",
    "'I have eaten ' + 99 + ' burritos.'\n"
   ]
  },
  {
   "cell_type": "markdown",
   "metadata": {},
   "source": [
    "    This expression is causing an error because the concatination operation can only be performed on strings but here we are trying to concatenate an integer to a string. This is the reason for the error. This can be fixed by either converting the 99 to a string by enclosing it in quotes or by using 99 as an integer and seperating it eith a comma instead od '+'"
   ]
  },
  {
   "cell_type": "markdown",
   "metadata": {},
   "source": [
    "Example"
   ]
  },
  {
   "cell_type": "code",
   "execution_count": 21,
   "metadata": {},
   "outputs": [
    {
     "name": "stdout",
     "output_type": "stream",
     "text": [
      "I have eaten 99 burritos.\n",
      "I have eaten 99 burritos.\n"
     ]
    }
   ],
   "source": [
    "print('I have eaten ' + '99' + ' burritos.')\n",
    "print('I have eaten' ,99, 'burritos.')"
   ]
  }
 ],
 "metadata": {
  "interpreter": {
   "hash": "2384231564d559509704311cefb4815ac4655e334809128806267b0b3a205f34"
  },
  "kernelspec": {
   "display_name": "Python 3.9.7 ('pythontutorial')",
   "language": "python",
   "name": "python3"
  },
  "language_info": {
   "codemirror_mode": {
    "name": "ipython",
    "version": 3
   },
   "file_extension": ".py",
   "mimetype": "text/x-python",
   "name": "python",
   "nbconvert_exporter": "python",
   "pygments_lexer": "ipython3",
   "version": "3.9.7"
  },
  "orig_nbformat": 4
 },
 "nbformat": 4,
 "nbformat_minor": 2
}
