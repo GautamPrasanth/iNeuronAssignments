{
 "cells": [
  {
   "cell_type": "markdown",
   "metadata": {},
   "source": [
    "1.What are the two values of the Boolean data type? How do you write them?\n"
   ]
  },
  {
   "cell_type": "markdown",
   "metadata": {},
   "source": [
    "    The two values of boolean data types are True and False. They are written with a captial 'T' and capital 'F'\n",
    "\n",
    "    Boolean Values: True, False"
   ]
  },
  {
   "cell_type": "markdown",
   "metadata": {},
   "source": []
  },
  {
   "cell_type": "markdown",
   "metadata": {},
   "source": [
    "2.What are the three different types of Boolean operators?"
   ]
  },
  {
   "cell_type": "markdown",
   "metadata": {},
   "source": [
    "    The three different types of boolean operators are AND, OR and NOT."
   ]
  },
  {
   "cell_type": "markdown",
   "metadata": {},
   "source": []
  },
  {
   "cell_type": "markdown",
   "metadata": {},
   "source": [
    "3.Make a list of each Boolean operator's truth tables (i.e. every possible combination of Boolean values for the operator and what it evaluate )."
   ]
  },
  {
   "cell_type": "markdown",
   "metadata": {},
   "source": [
    "    AND operator:\n",
    "\n",
    "        True + True = True\n",
    "\n",
    "        True + False = False\n",
    "\n",
    "        False + True = False\n",
    "\n",
    "        False + False = False\n",
    "\n",
    "    OR operator:\n",
    "\n",
    "        True + True = True\n",
    "\n",
    "        True + False = True\n",
    "\n",
    "        False + True = True\n",
    "\n",
    "        False + False = False\n",
    "\n",
    "    NOT operator:\n",
    "\n",
    "        True = False\n",
    "\n",
    "        False = True\n"
   ]
  },
  {
   "cell_type": "markdown",
   "metadata": {},
   "source": []
  },
  {
   "cell_type": "markdown",
   "metadata": {},
   "source": [
    "4. What are the values of the following expressions?\n"
   ]
  },
  {
   "cell_type": "markdown",
   "metadata": {},
   "source": [
    "    (5 > 4) and (3 == 5)  --->  False\n",
    "\n",
    "    not (5 > 4)  --->   False\n",
    "\n",
    "    (5 > 4) or (3 == 5)   --->  True\n",
    "\n",
    "    not ((5 > 4) or (3 == 5))  ---> False\n",
    "\n",
    "    (True and True) and (True == False)   ---> False\n",
    "\n",
    "    (not False) or (not True)  --->   True"
   ]
  },
  {
   "cell_type": "markdown",
   "metadata": {},
   "source": []
  },
  {
   "cell_type": "markdown",
   "metadata": {},
   "source": [
    "5.What are the six comparison operators?"
   ]
  },
  {
   "cell_type": "markdown",
   "metadata": {},
   "source": [
    "    The following are the six comparison operators:\n",
    "\n",
    "    <    --->    Less Than\n",
    "\n",
    "    >    --->    Greater Than\n",
    "\n",
    "    <=   --->    Less Than or equal to\n",
    "\n",
    "    >=   --->    Greater Than or equal to\n",
    "\n",
    "    ==   --->    Equal to\n",
    "\n",
    "    !=   --->    Not equal to\n"
   ]
  },
  {
   "cell_type": "markdown",
   "metadata": {},
   "source": []
  },
  {
   "cell_type": "markdown",
   "metadata": {},
   "source": [
    "6.How do you tell the difference between the equal to and assignment operators?Describe a condition and when you would use one."
   ]
  },
  {
   "cell_type": "markdown",
   "metadata": {},
   "source": [
    "    Equal to:\n",
    "\n",
    "    The equal to comparison operator is represented by a double equal sign '=='. It returns boolean value after comparison.\n",
    "\n",
    "    Assignment Operator:\n",
    "\n",
    "    The assignment operator is represented by a single equal sign '='. It is used to assign values to variables.\n",
    "\n",
    "\n",
    "    Usage:\n",
    "\n",
    "    The assignment operator is used when some values need to be assigned to variables whereas the equal to operator is used to compare two values.\n",
    "\n",
    "\n",
    "\n",
    "    Example:\n",
    "\n",
    "    a = 10  --> This is an example of assignment operator, the variable 'a' is assigned a value of 10.\n",
    "\n",
    "    a == 10 --> This is an example of equal to operator, the value returned here is True."
   ]
  },
  {
   "cell_type": "markdown",
   "metadata": {},
   "source": []
  },
  {
   "cell_type": "markdown",
   "metadata": {},
   "source": [
    "7.Identify the three blocks in this code:\n",
    "\n",
    "spam = 0\n",
    "\n",
    "if spam == 10:\n",
    "\n",
    "print('eggs')\n",
    "\n",
    "if spam > 5:\n",
    "\n",
    "print('bacon')\n",
    "\n",
    "else:\n",
    "\n",
    "print('ham')\n",
    "\n",
    "print('spam')\n",
    "\n",
    "print('spam')\n"
   ]
  },
  {
   "cell_type": "markdown",
   "metadata": {},
   "source": [
    "\n",
    "    spam = 0\n",
    "\n",
    "    if spam == 10:\n",
    "\n",
    "    print('eggs')       ---> Indentation Error\n",
    "\n",
    "    if spam > 5:   \n",
    "\n",
    "    print('bacon')      ---> Indentation Error\n",
    "\n",
    "    else:\n",
    "\n",
    "    print('ham')        ---> Indentation Error \n",
    "\n",
    "    print('spam')\n",
    "\n",
    "    print('spam')\n",
    "\n",
    "\n",
    "    In the above code there are three indentation errors. After each if statement and else statement there needs to be an indented block to indicate the operations to be done if the condition is satisfied.\n",
    "\n",
    "    The rectified code is written below"
   ]
  },
  {
   "cell_type": "code",
   "execution_count": null,
   "metadata": {},
   "outputs": [],
   "source": [
    "spam = 0\n",
    "\n",
    "if spam == 10:\n",
    "\n",
    "    print('eggs')\n",
    "\n",
    "if spam > 5:\n",
    "\n",
    "    print('bacon')\n",
    "\n",
    "else:\n",
    "\n",
    "    print('ham')\n",
    "\n",
    "print('spam')\n",
    "\n",
    "print('spam')"
   ]
  },
  {
   "cell_type": "markdown",
   "metadata": {},
   "source": []
  },
  {
   "cell_type": "markdown",
   "metadata": {},
   "source": [
    "8.Write code that prints Hello if 1 is stored in spam, prints Howdy if 2 is stored in spam, and prints Greetings! if anything else is stored in spam."
   ]
  },
  {
   "cell_type": "code",
   "execution_count": null,
   "metadata": {},
   "outputs": [],
   "source": [
    "spam = int(input('Enter value of spam : '))\n",
    "\n",
    "if spam == 1:\n",
    "    print(\"Hello\")\n",
    "\n",
    "elif spam == 2:\n",
    "    print(\"Howdy\")\n",
    "\n",
    "else:\n",
    "    print(\"Greetings\")\n"
   ]
  },
  {
   "cell_type": "markdown",
   "metadata": {},
   "source": []
  },
  {
   "cell_type": "markdown",
   "metadata": {},
   "source": [
    "\n",
    "9.If your programme is stuck in an endless loop, what keys you’ll press?"
   ]
  },
  {
   "cell_type": "markdown",
   "metadata": {},
   "source": [
    "    If the program is stuck in an infinite loop then we need to press the \"ctrl+c\" key to terminate the program."
   ]
  },
  {
   "cell_type": "markdown",
   "metadata": {},
   "source": []
  },
  {
   "cell_type": "markdown",
   "metadata": {},
   "source": [
    "10.How can you tell the difference between break and continue?"
   ]
  },
  {
   "cell_type": "markdown",
   "metadata": {},
   "source": [
    "    Break:\n",
    "\n",
    "    Break is used to stop the execution of the loob completely and come out of the loop.\n",
    "\n",
    "    Continue:\n",
    "\n",
    "    Continue just skips the current iteration and continues to the next iteration of the loop."
   ]
  },
  {
   "cell_type": "markdown",
   "metadata": {},
   "source": []
  },
  {
   "cell_type": "markdown",
   "metadata": {},
   "source": [
    "11.In a for loop, what is the difference between range(10), range(0, 10), and range(0, 10, 1)?"
   ]
  },
  {
   "cell_type": "markdown",
   "metadata": {},
   "source": [
    "    range(10): This prints the values from 0 to 10 excluding 10. It starts from 0 because it is the default value.\n",
    "\n",
    "    range(0,10): This prints exactly the same output as the previous line but here we are specifying the starting point as well, here 0 is the starting and 10 is the end point of the range function.\n",
    "\n",
    "    range(0,10,1): In this function 0 is the starting point, 10 is the end point, and 1 is the step size of the range function.\n"
   ]
  },
  {
   "cell_type": "markdown",
   "metadata": {},
   "source": []
  },
  {
   "cell_type": "markdown",
   "metadata": {},
   "source": [
    "12.Write a short program that prints the numbers 1 to 10 using a for loop. Then write an equivalent program that prints the numbers 1 to 10 using a while loop."
   ]
  },
  {
   "cell_type": "code",
   "execution_count": null,
   "metadata": {},
   "outputs": [],
   "source": [
    "#printing numbers 1 to 10 using for loop\n",
    "\n",
    "for i in range(1,11):\n",
    "    print(i)"
   ]
  },
  {
   "cell_type": "code",
   "execution_count": null,
   "metadata": {},
   "outputs": [],
   "source": [
    "#printing numbers 1 to 10 using while loop\n",
    "i = 1\n",
    "while(i<=10):\n",
    "    print(i)\n",
    "    i+=1"
   ]
  },
  {
   "cell_type": "markdown",
   "metadata": {},
   "source": [
    "13.If you had a function named bacon() inside a module named spam, how would you call it after importing spam?"
   ]
  },
  {
   "cell_type": "markdown",
   "metadata": {},
   "source": [
    "    If we need to call a function within a module after importing only the module then we need to call it along with the module name followed by a dot followed by the function name.\n",
    "\n",
    "    Example: For calling the function when only the module is imported\n",
    "\n",
    "        #importing the module\n",
    "\n",
    "        import spam\n",
    "\n",
    "        #calling the function\n",
    "\n",
    "        spam.bacon()\n",
    "\n",
    "    \n",
    "\n",
    "    If the function is imported along with the module then it can be called without referencing the module.\n",
    "\n",
    "    Example: For calling the function when the function is imported directly from the module\n",
    "\n",
    "        #importing the function along with the module\n",
    "\n",
    "        from spam import bacon\n",
    "\n",
    "        #calling the function (no need to specify the module name in this case)\n",
    "\n",
    "        bacon()\n"
   ]
  },
  {
   "cell_type": "markdown",
   "metadata": {},
   "source": []
  }
 ],
 "metadata": {
  "interpreter": {
   "hash": "2384231564d559509704311cefb4815ac4655e334809128806267b0b3a205f34"
  },
  "kernelspec": {
   "display_name": "Python 3.9.7 ('pythontutorial')",
   "language": "python",
   "name": "python3"
  },
  "language_info": {
   "codemirror_mode": {
    "name": "ipython",
    "version": 3
   },
   "file_extension": ".py",
   "mimetype": "text/x-python",
   "name": "python",
   "nbconvert_exporter": "python",
   "pygments_lexer": "ipython3",
   "version": "3.9.7"
  },
  "orig_nbformat": 4
 },
 "nbformat": 4,
 "nbformat_minor": 2
}
