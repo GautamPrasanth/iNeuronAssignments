{
 "cells": [
  {
   "cell_type": "markdown",
   "metadata": {},
   "source": [
    "# Question 1"
   ]
  },
  {
   "cell_type": "markdown",
   "metadata": {},
   "source": [
    "Python function to read the text file and replace specific content of the file."
   ]
  },
  {
   "cell_type": "code",
   "execution_count": 61,
   "metadata": {},
   "outputs": [],
   "source": [
    "def replace_string(filepath):\n",
    "    try:\n",
    "        # Opening the example.txt file to read it's contents\n",
    "        # Using context managers instead of normal file operation\n",
    "        with open(filepath, 'r') as f:\n",
    "            filedata = f.read()\n",
    "\n",
    "        # checking if the string is present in the given file\n",
    "        if filedata.find('placement') > 0:\n",
    "            # Replacing the string as specified in the question\n",
    "            filedata = filedata.replace('placement', 'screening')\n",
    "            print(\"Successfully Replaced\")\n",
    "\n",
    "            # Writing the new data in the file again\n",
    "            with open(filepath, 'w') as f:\n",
    "                f.write(filedata)\n",
    "\n",
    "        else:\n",
    "            # Negative case\n",
    "            print('String not found')\n",
    "\n",
    "\n",
    "    except FileNotFoundError:\n",
    "        # Exception handling in case the example.txt file is not present\n",
    "        print (\"File not found. Please specify the correct path for example.txt\")"
   ]
  },
  {
   "cell_type": "code",
   "execution_count": 63,
   "metadata": {},
   "outputs": [
    {
     "name": "stdout",
     "output_type": "stream",
     "text": [
      "Successfully Replaced\n"
     ]
    }
   ],
   "source": [
    "# Testing for working\n",
    "replace_string(\"example.txt\")"
   ]
  },
  {
   "cell_type": "markdown",
   "metadata": {},
   "source": [
    "-----------------------------------------------------------------------------------------------------------------"
   ]
  },
  {
   "cell_type": "markdown",
   "metadata": {},
   "source": [
    "# Question 2"
   ]
  },
  {
   "cell_type": "markdown",
   "metadata": {},
   "source": [
    "#  Abstract Class"
   ]
  },
  {
   "cell_type": "markdown",
   "metadata": {},
   "source": [
    "Abstract class is used to create child classes with with pre defined functions in the abstract class, i.e the child class must contain all the abstract methods of the parent class. This can be used when we create multiple child classes and we need a particular method to be present in all the child classes."
   ]
  },
  {
   "cell_type": "code",
   "execution_count": 54,
   "metadata": {},
   "outputs": [],
   "source": [
    "# creating an abstract class\n",
    "\n",
    "from abc import ABC, abstractmethod\n",
    "\n",
    "class Area(ABC):\n",
    "    def __init__(self):\n",
    "        pass\n",
    "    \n",
    "    # This is the abstract method, It should be present in every child class of this abstract class \n",
    "    @abstractmethod\n",
    "    def area(self):\n",
    "        pass\n",
    "\n",
    "class Perimeter(ABC):\n",
    "    def __init__(self):\n",
    "        pass\n",
    "\n",
    "    # This is the abstract method, It should be present in every child class of this abstract class \n",
    "    @abstractmethod\n",
    "    def perimeter(self):\n",
    "        pass\n",
    "\n",
    "# creating a class that inherits from the abstract method, here the area and perimeter methods present in the abstract class must be defined or it will give an error\n",
    "class Square(Area, Perimeter):\n",
    "    def __init__(self, side):\n",
    "        self.side = side\n",
    "        \n",
    "    # defining the abstract area method\n",
    "    def area(self):\n",
    "        return self.side*self.side\n",
    "\n",
    "    # defining the abstract perimeter method\n",
    "    def perimeter(self):\n",
    "        return 4*self.side\n",
    "\n",
    "class Rectangle(Area, Perimeter):\n",
    "    def __init__(self, length, breadth):\n",
    "        self.length = length\n",
    "        self.breadth = breadth\n",
    "        \n",
    "    # defining the abstract area method\n",
    "    def area(self):\n",
    "        return self.length*self.breadth\n",
    "\n",
    "    # defining the abstract perimeter method\n",
    "    def perimeter(self):\n",
    "        return (2*self.length)+(2*self.breadth)"
   ]
  },
  {
   "cell_type": "markdown",
   "metadata": {},
   "source": [
    "Without the area and perimeter methods in the above two child classes the code will give an error."
   ]
  },
  {
   "cell_type": "code",
   "execution_count": 55,
   "metadata": {},
   "outputs": [
    {
     "name": "stdout",
     "output_type": "stream",
     "text": [
      "25\n",
      "20\n"
     ]
    }
   ],
   "source": [
    "# Example\n",
    "\n",
    "a = Square(5)\n",
    "print(a.area())\n",
    "print(a.perimeter())"
   ]
  },
  {
   "cell_type": "code",
   "execution_count": 56,
   "metadata": {},
   "outputs": [
    {
     "name": "stdout",
     "output_type": "stream",
     "text": [
      "50\n",
      "30\n"
     ]
    }
   ],
   "source": [
    "# Example\n",
    "\n",
    "a = Rectangle(5,10)\n",
    "print(a.area())\n",
    "print(a.perimeter())"
   ]
  },
  {
   "cell_type": "markdown",
   "metadata": {},
   "source": [
    "# Multiple Inheritance"
   ]
  },
  {
   "cell_type": "markdown",
   "metadata": {},
   "source": [
    " When a class inherits from more than one class then it is called multiple inheritance."
   ]
  },
  {
   "cell_type": "code",
   "execution_count": 31,
   "metadata": {},
   "outputs": [],
   "source": [
    "# creating different classes\n",
    "\n",
    "class Add:\n",
    "    def __init__(self):\n",
    "        pass\n",
    "\n",
    "    def add(self,*args):\n",
    "        i = 0\n",
    "        for j in args:\n",
    "            i = i + j\n",
    "        return i\n",
    "        \n",
    "    def about(self):\n",
    "        return \"This is Add class\"\n",
    "\n",
    "\n",
    "class Multiply:\n",
    "    def __init__(self):\n",
    "        pass\n",
    "\n",
    "    def mul(self,*args):\n",
    "        i = 1\n",
    "        for j in args:\n",
    "            i = i * j\n",
    "        return i\n",
    "\n",
    "    def about(self):\n",
    "        return \"This is Multiply class\"\n",
    "    \n",
    "\n",
    "class Subtract:\n",
    "    def __init__(self):\n",
    "        pass\n",
    "\n",
    "    def sub(self,a,b):\n",
    "        self.a = a\n",
    "        self.b = b\n",
    "        i = self.a-self.b\n",
    "        return i\n",
    "\n",
    "    def about(self):\n",
    "        return \"This is Subtract class\"\n",
    "\n",
    "class Divide:\n",
    "    def __init__(self):\n",
    "        pass\n",
    "\n",
    "    def div(self,a,b):\n",
    "        self.a = a\n",
    "        self.b = b\n",
    "        i = self.a/self.b\n",
    "        return i\n",
    "\n",
    "    def about(self):\n",
    "        return \"This is Divide class\"\n",
    "\n"
   ]
  },
  {
   "cell_type": "code",
   "execution_count": 32,
   "metadata": {},
   "outputs": [],
   "source": [
    "# creating operations class which inherits from multiple classes\n",
    "\n",
    "class Operations(Add,Multiply,Divide,Subtract):\n",
    "    def __init__(self):\n",
    "        pass\n",
    "    \n",
    "    def about(self):\n",
    "        return \"This is Operations class\""
   ]
  },
  {
   "cell_type": "code",
   "execution_count": 33,
   "metadata": {},
   "outputs": [
    {
     "name": "stdout",
     "output_type": "stream",
     "text": [
      "This is Operations class\n",
      "15\n",
      "5\n",
      "27\n",
      "20.0\n"
     ]
    }
   ],
   "source": [
    "# Example\n",
    "\n",
    "a = Operations()\n",
    "\n",
    "print(a.about())\n",
    "print(a.add(1,2,3,4,5))\n",
    "print(a.sub(10,5))\n",
    "print(a.mul(3,3,3))\n",
    "print(a.div(100,5))"
   ]
  },
  {
   "cell_type": "markdown",
   "metadata": {},
   "source": [
    "# Decorators"
   ]
  },
  {
   "cell_type": "markdown",
   "metadata": {},
   "source": [
    "Decorators help to wrap other functions within our function for extened usage without altering the original function"
   ]
  },
  {
   "cell_type": "code",
   "execution_count": 69,
   "metadata": {},
   "outputs": [],
   "source": [
    "# Example of a decorator to calculate the time fo execution of a function\n",
    "\n",
    "# Creating the decorator function which takes a function as the argument\n",
    "def calculate_time(func):\n",
    "    from time import time\n",
    "    \n",
    "    def inner_func(*args):\n",
    "        start = time()\n",
    "        # Calling the function\n",
    "        ret = func(*args)\n",
    "        end = time()\n",
    "        print(\"The time for execution is : \", end-start, \"seconds\")\n",
    "        return ret\n",
    "\n",
    "    # Calling the inner function\n",
    "    return inner_func\n",
    "\n",
    "# creating a sample function by calling also the decorator\n",
    "@calculate_time\n",
    "def add_sequence(rng):\n",
    "    j = 0\n",
    "    for i in range(1,rng+1):\n",
    "        sum = i + j\n",
    "        j = sum\n",
    "    return sum"
   ]
  },
  {
   "cell_type": "code",
   "execution_count": 71,
   "metadata": {},
   "outputs": [
    {
     "name": "stdout",
     "output_type": "stream",
     "text": [
      "The time for execution is :  0.00011396408081054688 seconds\n",
      "500500\n"
     ]
    }
   ],
   "source": [
    "# Example - This will print the exeecution time for the function\n",
    "\n",
    "print(add_sequence(1000))"
   ]
  }
 ],
 "metadata": {
  "interpreter": {
   "hash": "a1efd7151ace4617cf718278dd4b64eab211d6fda341c8d7d80b9b77c36f059f"
  },
  "kernelspec": {
   "display_name": "Python 3.9.7 ('base')",
   "language": "python",
   "name": "python3"
  },
  "language_info": {
   "codemirror_mode": {
    "name": "ipython",
    "version": 3
   },
   "file_extension": ".py",
   "mimetype": "text/x-python",
   "name": "python",
   "nbconvert_exporter": "python",
   "pygments_lexer": "ipython3",
   "version": "3.9.7"
  },
  "orig_nbformat": 4
 },
 "nbformat": 4,
 "nbformat_minor": 2
}
